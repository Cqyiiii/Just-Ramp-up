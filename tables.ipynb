{
 "cells": [
  {
   "cell_type": "code",
   "execution_count": 18,
   "id": "e9db5b63-14ab-4049-b535-9d270803f799",
   "metadata": {},
   "outputs": [],
   "source": [
    "import torch\n",
    "import os \n",
    "import numpy as np \n",
    "import pandas as pd\n",
    "# np.set_printoptions(precision=3)\n",
    "# pd.set_option('display.float_format', '{:.3f}'.format)"
   ]
  },
  {
   "cell_type": "code",
   "execution_count": 2,
   "id": "3faf3065-5d3c-46e2-aa4c-7b1c606bebad",
   "metadata": {},
   "outputs": [],
   "source": [
    "path_u = \"Result/NoRamp_Ber_unit_res10_final.pkl\"\n",
    "path_c = \"Result/NoRamp_Ber_cluster_res10_final.pkl\""
   ]
  },
  {
   "cell_type": "code",
   "execution_count": 3,
   "id": "ffde972d-e90d-4eb4-89cb-55f25883ecf4",
   "metadata": {},
   "outputs": [],
   "source": [
    "result_u = torch.load(path_u)\n",
    "result_c = torch.load(path_c)"
   ]
  },
  {
   "cell_type": "code",
   "execution_count": 7,
   "id": "1d9eb422-f98a-444e-9981-4b9b77341ec0",
   "metadata": {},
   "outputs": [],
   "source": [
    "true_gate = 2"
   ]
  },
  {
   "cell_type": "code",
   "execution_count": 35,
   "id": "21b0b608-9dbf-4996-9a92-1422e342570b",
   "metadata": {},
   "outputs": [
    {
     "name": "stdout",
     "output_type": "stream",
     "text": [
      "-0.110 & 0.019 & 0.012\n",
      "-0.115 & 0.024 & 0.014\n",
      "-0.142 & 0.015 & 0.020\n",
      "-0.365 & 0.023 & 0.133\n",
      "-0.945 & 0.071 & 0.899\n"
     ]
    }
   ],
   "source": [
    "# unit\n",
    "bias = result_u.mean(axis=0) - 2\n",
    "std = result_u.std(axis=0) \n",
    "mse = bias **2 + std ** 2\n",
    "\n",
    "df = pd.DataFrame({\"bias\":bias, \"std\":std, \"mse\":mse})\n",
    "for row_ in df.iterrows():\n",
    "    row = row_[1]\n",
    "    print(\"{:.3f} & {:.3f} & {:.3f}\".format(row[\"bias\"], row[\"std\"], row[\"mse\"]))"
   ]
  },
  {
   "cell_type": "code",
   "execution_count": 36,
   "id": "8f78494e-b06a-4a27-b0b2-23da6fa2bdc3",
   "metadata": {},
   "outputs": [
    {
     "name": "stdout",
     "output_type": "stream",
     "text": [
      "-0.042 & 0.056 & 0.005\n",
      "-0.032 & 0.050 & 0.004\n",
      "-0.038 & 0.041 & 0.003\n",
      "-0.118 & 0.046 & 0.016\n",
      "-0.562 & 0.058 & 0.320\n"
     ]
    }
   ],
   "source": [
    "# cluster\n",
    "bias = result_c.mean(axis=0) - 2\n",
    "std = result_c.std(axis=0) \n",
    "mse = bias **2 + std ** 2\n",
    "\n",
    "df = pd.DataFrame({\"bias\":bias, \"std\":std, \"mse\":mse})\n",
    "for row_ in df.iterrows():\n",
    "    row = row_[1]\n",
    "    print(\"{:.3f} & {:.3f} & {:.3f}\".format(row[\"bias\"], row[\"std\"], row[\"mse\"]))"
   ]
  },
  {
   "cell_type": "code",
   "execution_count": null,
   "id": "860eab2e-9e1c-40cd-a316-cfab0dc331d9",
   "metadata": {},
   "outputs": [],
   "source": []
  }
 ],
 "metadata": {
  "kernelspec": {
   "display_name": "myconda",
   "language": "python",
   "name": "myconda"
  },
  "language_info": {
   "codemirror_mode": {
    "name": "ipython",
    "version": 3
   },
   "file_extension": ".py",
   "mimetype": "text/x-python",
   "name": "python",
   "nbconvert_exporter": "python",
   "pygments_lexer": "ipython3",
   "version": "3.10.13"
  }
 },
 "nbformat": 4,
 "nbformat_minor": 5
}
